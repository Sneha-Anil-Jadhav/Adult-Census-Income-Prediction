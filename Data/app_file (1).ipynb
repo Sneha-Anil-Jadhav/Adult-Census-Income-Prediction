{
  "nbformat": 4,
  "nbformat_minor": 0,
  "metadata": {
    "colab": {
      "name": "app file.ipynb",
      "provenance": [],
      "collapsed_sections": []
    },
    "kernelspec": {
      "name": "python3",
      "display_name": "Python 3"
    },
    "language_info": {
      "name": "python"
    },
    "accelerator": "GPU"
  },
  "cells": [
    {
      "cell_type": "code",
      "metadata": {
        "id": "4QDhguTCnVW2"
      },
      "source": [
        "import pandas as pd\n",
        "import numpy as np\n",
        "import seaborn as sns\n",
        "import matplotlib.pyplot as plt\n",
        "%matplotlib inline"
      ],
      "execution_count": 65,
      "outputs": []
    },
    {
      "cell_type": "code",
      "metadata": {
        "id": "R598mSy5nY1_"
      },
      "source": [
        "df = pd.read_csv(\"/content/drive/MyDrive/adult.csv\")"
      ],
      "execution_count": 66,
      "outputs": []
    },
    {
      "cell_type": "code",
      "metadata": {
        "colab": {
          "base_uri": "https://localhost:8080/"
        },
        "id": "Aboo8p_6nbC8",
        "outputId": "2cb78bb0-06ad-4b10-9378-98528cde5ed1"
      },
      "source": [
        "df.isnull().sum()"
      ],
      "execution_count": 67,
      "outputs": [
        {
          "output_type": "execute_result",
          "data": {
            "text/plain": [
              "age               0\n",
              "workclass         0\n",
              "fnlwgt            0\n",
              "education         0\n",
              "education-num     0\n",
              "marital-status    0\n",
              "occupation        0\n",
              "relationship      0\n",
              "race              0\n",
              "sex               0\n",
              "capital-gain      0\n",
              "capital-loss      0\n",
              "hours-per-week    0\n",
              "country           0\n",
              "salary            0\n",
              "dtype: int64"
            ]
          },
          "metadata": {},
          "execution_count": 67
        }
      ]
    },
    {
      "cell_type": "code",
      "metadata": {
        "colab": {
          "base_uri": "https://localhost:8080/"
        },
        "id": "8ZequfBTnxRR",
        "outputId": "3579984d-72c7-49c2-d558-7be05cc0d7e1"
      },
      "source": [
        "df.info()"
      ],
      "execution_count": 68,
      "outputs": [
        {
          "output_type": "stream",
          "name": "stdout",
          "text": [
            "<class 'pandas.core.frame.DataFrame'>\n",
            "RangeIndex: 32561 entries, 0 to 32560\n",
            "Data columns (total 15 columns):\n",
            " #   Column          Non-Null Count  Dtype \n",
            "---  ------          --------------  ----- \n",
            " 0   age             32561 non-null  int64 \n",
            " 1   workclass       32561 non-null  object\n",
            " 2   fnlwgt          32561 non-null  int64 \n",
            " 3   education       32561 non-null  object\n",
            " 4   education-num   32561 non-null  int64 \n",
            " 5   marital-status  32561 non-null  object\n",
            " 6   occupation      32561 non-null  object\n",
            " 7   relationship    32561 non-null  object\n",
            " 8   race            32561 non-null  object\n",
            " 9   sex             32561 non-null  object\n",
            " 10  capital-gain    32561 non-null  int64 \n",
            " 11  capital-loss    32561 non-null  int64 \n",
            " 12  hours-per-week  32561 non-null  int64 \n",
            " 13  country         32561 non-null  object\n",
            " 14  salary          32561 non-null  object\n",
            "dtypes: int64(6), object(9)\n",
            "memory usage: 3.7+ MB\n"
          ]
        }
      ]
    },
    {
      "cell_type": "code",
      "metadata": {
        "id": "_q7moClEnzpr"
      },
      "source": [
        "df[df == ' ?'] = np.nan"
      ],
      "execution_count": 69,
      "outputs": []
    },
    {
      "cell_type": "code",
      "metadata": {
        "colab": {
          "base_uri": "https://localhost:8080/"
        },
        "id": "T25lQIjCn2Ds",
        "outputId": "9e683898-9f4c-46f2-ee6c-0d915d51d04d"
      },
      "source": [
        "df.isnull().sum()"
      ],
      "execution_count": 70,
      "outputs": [
        {
          "output_type": "execute_result",
          "data": {
            "text/plain": [
              "age                  0\n",
              "workclass         1836\n",
              "fnlwgt               0\n",
              "education            0\n",
              "education-num        0\n",
              "marital-status       0\n",
              "occupation        1843\n",
              "relationship         0\n",
              "race                 0\n",
              "sex                  0\n",
              "capital-gain         0\n",
              "capital-loss         0\n",
              "hours-per-week       0\n",
              "country            583\n",
              "salary               0\n",
              "dtype: int64"
            ]
          },
          "metadata": {},
          "execution_count": 70
        }
      ]
    },
    {
      "cell_type": "code",
      "metadata": {
        "id": "2wjyrJnfn5Tv"
      },
      "source": [
        "df1 = df.dropna()"
      ],
      "execution_count": 71,
      "outputs": []
    },
    {
      "cell_type": "code",
      "metadata": {
        "id": "bzOgUrjMn8hl"
      },
      "source": [
        "from sklearn.preprocessing import LabelEncoder"
      ],
      "execution_count": 72,
      "outputs": []
    },
    {
      "cell_type": "code",
      "metadata": {
        "id": "wQcVT4wboAWK"
      },
      "source": [
        "lb = LabelEncoder()"
      ],
      "execution_count": 73,
      "outputs": []
    },
    {
      "cell_type": "code",
      "metadata": {
        "colab": {
          "base_uri": "https://localhost:8080/"
        },
        "id": "-Nr0CMQvoE6B",
        "outputId": "a2a7a6eb-99d5-4588-b7fe-787ba734c785"
      },
      "source": [
        "df1['salary'] = lb.fit_transform(df1['salary'])\n",
        "df1['workclass'] = lb.fit_transform(df1['workclass'])\n",
        "df1['education'] = lb.fit_transform(df1['education'])\n",
        "df1['marital-status'] = lb.fit_transform(df1['marital-status'])\n",
        "df1['occupation'] = lb.fit_transform(df1['occupation'])\n",
        "df1['relationship'] = lb.fit_transform(df1['relationship'])\n",
        "df1['race'] = lb.fit_transform(df1['race'])\n",
        "df1['sex'] = lb.fit_transform(df1['sex'])\n",
        "df1['country'] = lb.fit_transform(df1['country'])\n"
      ],
      "execution_count": 74,
      "outputs": [
        {
          "output_type": "stream",
          "name": "stderr",
          "text": [
            "/usr/local/lib/python3.7/dist-packages/ipykernel_launcher.py:1: SettingWithCopyWarning: \n",
            "A value is trying to be set on a copy of a slice from a DataFrame.\n",
            "Try using .loc[row_indexer,col_indexer] = value instead\n",
            "\n",
            "See the caveats in the documentation: https://pandas.pydata.org/pandas-docs/stable/user_guide/indexing.html#returning-a-view-versus-a-copy\n",
            "  \"\"\"Entry point for launching an IPython kernel.\n",
            "/usr/local/lib/python3.7/dist-packages/ipykernel_launcher.py:2: SettingWithCopyWarning: \n",
            "A value is trying to be set on a copy of a slice from a DataFrame.\n",
            "Try using .loc[row_indexer,col_indexer] = value instead\n",
            "\n",
            "See the caveats in the documentation: https://pandas.pydata.org/pandas-docs/stable/user_guide/indexing.html#returning-a-view-versus-a-copy\n",
            "  \n",
            "/usr/local/lib/python3.7/dist-packages/ipykernel_launcher.py:3: SettingWithCopyWarning: \n",
            "A value is trying to be set on a copy of a slice from a DataFrame.\n",
            "Try using .loc[row_indexer,col_indexer] = value instead\n",
            "\n",
            "See the caveats in the documentation: https://pandas.pydata.org/pandas-docs/stable/user_guide/indexing.html#returning-a-view-versus-a-copy\n",
            "  This is separate from the ipykernel package so we can avoid doing imports until\n",
            "/usr/local/lib/python3.7/dist-packages/ipykernel_launcher.py:4: SettingWithCopyWarning: \n",
            "A value is trying to be set on a copy of a slice from a DataFrame.\n",
            "Try using .loc[row_indexer,col_indexer] = value instead\n",
            "\n",
            "See the caveats in the documentation: https://pandas.pydata.org/pandas-docs/stable/user_guide/indexing.html#returning-a-view-versus-a-copy\n",
            "  after removing the cwd from sys.path.\n",
            "/usr/local/lib/python3.7/dist-packages/ipykernel_launcher.py:5: SettingWithCopyWarning: \n",
            "A value is trying to be set on a copy of a slice from a DataFrame.\n",
            "Try using .loc[row_indexer,col_indexer] = value instead\n",
            "\n",
            "See the caveats in the documentation: https://pandas.pydata.org/pandas-docs/stable/user_guide/indexing.html#returning-a-view-versus-a-copy\n",
            "  \"\"\"\n",
            "/usr/local/lib/python3.7/dist-packages/ipykernel_launcher.py:6: SettingWithCopyWarning: \n",
            "A value is trying to be set on a copy of a slice from a DataFrame.\n",
            "Try using .loc[row_indexer,col_indexer] = value instead\n",
            "\n",
            "See the caveats in the documentation: https://pandas.pydata.org/pandas-docs/stable/user_guide/indexing.html#returning-a-view-versus-a-copy\n",
            "  \n",
            "/usr/local/lib/python3.7/dist-packages/ipykernel_launcher.py:7: SettingWithCopyWarning: \n",
            "A value is trying to be set on a copy of a slice from a DataFrame.\n",
            "Try using .loc[row_indexer,col_indexer] = value instead\n",
            "\n",
            "See the caveats in the documentation: https://pandas.pydata.org/pandas-docs/stable/user_guide/indexing.html#returning-a-view-versus-a-copy\n",
            "  import sys\n",
            "/usr/local/lib/python3.7/dist-packages/ipykernel_launcher.py:8: SettingWithCopyWarning: \n",
            "A value is trying to be set on a copy of a slice from a DataFrame.\n",
            "Try using .loc[row_indexer,col_indexer] = value instead\n",
            "\n",
            "See the caveats in the documentation: https://pandas.pydata.org/pandas-docs/stable/user_guide/indexing.html#returning-a-view-versus-a-copy\n",
            "  \n",
            "/usr/local/lib/python3.7/dist-packages/ipykernel_launcher.py:9: SettingWithCopyWarning: \n",
            "A value is trying to be set on a copy of a slice from a DataFrame.\n",
            "Try using .loc[row_indexer,col_indexer] = value instead\n",
            "\n",
            "See the caveats in the documentation: https://pandas.pydata.org/pandas-docs/stable/user_guide/indexing.html#returning-a-view-versus-a-copy\n",
            "  if __name__ == '__main__':\n"
          ]
        }
      ]
    },
    {
      "cell_type": "code",
      "metadata": {
        "id": "7dlks69CobtJ"
      },
      "source": [
        "df1 = df1.drop('fnlwgt',axis = 1)"
      ],
      "execution_count": 75,
      "outputs": []
    },
    {
      "cell_type": "markdown",
      "metadata": {
        "id": "wkrngSOWw7Ul"
      },
      "source": [
        "The Correlation between fnlwgt and salary i s very low so we delete the fnlwgt column"
      ]
    },
    {
      "cell_type": "code",
      "metadata": {
        "id": "BpX2l_VBofKI"
      },
      "source": [
        "corr = df1.corr()"
      ],
      "execution_count": 76,
      "outputs": []
    },
    {
      "cell_type": "code",
      "metadata": {
        "colab": {
          "base_uri": "https://localhost:8080/",
          "height": 576
        },
        "id": "mtNqcC-GoiLx",
        "outputId": "d635cd6d-5b60-4c8c-8186-6310cd16110e"
      },
      "source": [
        "corr"
      ],
      "execution_count": 77,
      "outputs": [
        {
          "output_type": "execute_result",
          "data": {
            "text/html": [
              "<div>\n",
              "<style scoped>\n",
              "    .dataframe tbody tr th:only-of-type {\n",
              "        vertical-align: middle;\n",
              "    }\n",
              "\n",
              "    .dataframe tbody tr th {\n",
              "        vertical-align: top;\n",
              "    }\n",
              "\n",
              "    .dataframe thead th {\n",
              "        text-align: right;\n",
              "    }\n",
              "</style>\n",
              "<table border=\"1\" class=\"dataframe\">\n",
              "  <thead>\n",
              "    <tr style=\"text-align: right;\">\n",
              "      <th></th>\n",
              "      <th>age</th>\n",
              "      <th>workclass</th>\n",
              "      <th>education</th>\n",
              "      <th>education-num</th>\n",
              "      <th>marital-status</th>\n",
              "      <th>occupation</th>\n",
              "      <th>relationship</th>\n",
              "      <th>race</th>\n",
              "      <th>sex</th>\n",
              "      <th>capital-gain</th>\n",
              "      <th>capital-loss</th>\n",
              "      <th>hours-per-week</th>\n",
              "      <th>country</th>\n",
              "      <th>salary</th>\n",
              "    </tr>\n",
              "  </thead>\n",
              "  <tbody>\n",
              "    <tr>\n",
              "      <th>age</th>\n",
              "      <td>1.000000</td>\n",
              "      <td>0.080540</td>\n",
              "      <td>-0.001111</td>\n",
              "      <td>0.043526</td>\n",
              "      <td>-0.276373</td>\n",
              "      <td>-0.005682</td>\n",
              "      <td>-0.246456</td>\n",
              "      <td>0.023374</td>\n",
              "      <td>0.081993</td>\n",
              "      <td>0.080154</td>\n",
              "      <td>0.060165</td>\n",
              "      <td>0.101599</td>\n",
              "      <td>-0.001905</td>\n",
              "      <td>0.241998</td>\n",
              "    </tr>\n",
              "    <tr>\n",
              "      <th>workclass</th>\n",
              "      <td>0.080540</td>\n",
              "      <td>1.000000</td>\n",
              "      <td>0.017855</td>\n",
              "      <td>0.037833</td>\n",
              "      <td>-0.034241</td>\n",
              "      <td>0.015572</td>\n",
              "      <td>-0.067417</td>\n",
              "      <td>0.044731</td>\n",
              "      <td>0.074973</td>\n",
              "      <td>0.035350</td>\n",
              "      <td>0.007204</td>\n",
              "      <td>0.050724</td>\n",
              "      <td>0.007668</td>\n",
              "      <td>0.018044</td>\n",
              "    </tr>\n",
              "    <tr>\n",
              "      <th>education</th>\n",
              "      <td>-0.001111</td>\n",
              "      <td>0.017855</td>\n",
              "      <td>1.000000</td>\n",
              "      <td>0.345410</td>\n",
              "      <td>-0.040664</td>\n",
              "      <td>-0.038212</td>\n",
              "      <td>-0.012717</td>\n",
              "      <td>0.011154</td>\n",
              "      <td>-0.027888</td>\n",
              "      <td>0.030575</td>\n",
              "      <td>0.015028</td>\n",
              "      <td>0.059887</td>\n",
              "      <td>0.078790</td>\n",
              "      <td>0.078987</td>\n",
              "    </tr>\n",
              "    <tr>\n",
              "      <th>education-num</th>\n",
              "      <td>0.043526</td>\n",
              "      <td>0.037833</td>\n",
              "      <td>0.345410</td>\n",
              "      <td>1.000000</td>\n",
              "      <td>-0.063419</td>\n",
              "      <td>0.087717</td>\n",
              "      <td>-0.091935</td>\n",
              "      <td>0.032805</td>\n",
              "      <td>0.006157</td>\n",
              "      <td>0.124416</td>\n",
              "      <td>0.079646</td>\n",
              "      <td>0.152522</td>\n",
              "      <td>0.091555</td>\n",
              "      <td>0.335286</td>\n",
              "    </tr>\n",
              "    <tr>\n",
              "      <th>marital-status</th>\n",
              "      <td>-0.276373</td>\n",
              "      <td>-0.034241</td>\n",
              "      <td>-0.040664</td>\n",
              "      <td>-0.063419</td>\n",
              "      <td>1.000000</td>\n",
              "      <td>0.022655</td>\n",
              "      <td>0.177964</td>\n",
              "      <td>-0.068627</td>\n",
              "      <td>-0.119813</td>\n",
              "      <td>-0.042418</td>\n",
              "      <td>-0.035203</td>\n",
              "      <td>-0.189003</td>\n",
              "      <td>-0.025902</td>\n",
              "      <td>-0.193518</td>\n",
              "    </tr>\n",
              "    <tr>\n",
              "      <th>occupation</th>\n",
              "      <td>-0.005682</td>\n",
              "      <td>0.015572</td>\n",
              "      <td>-0.038212</td>\n",
              "      <td>0.087717</td>\n",
              "      <td>0.022655</td>\n",
              "      <td>1.000000</td>\n",
              "      <td>-0.053727</td>\n",
              "      <td>0.000717</td>\n",
              "      <td>0.062313</td>\n",
              "      <td>0.022162</td>\n",
              "      <td>0.014607</td>\n",
              "      <td>0.018365</td>\n",
              "      <td>-0.003483</td>\n",
              "      <td>0.051577</td>\n",
              "    </tr>\n",
              "    <tr>\n",
              "      <th>relationship</th>\n",
              "      <td>-0.246456</td>\n",
              "      <td>-0.067417</td>\n",
              "      <td>-0.012717</td>\n",
              "      <td>-0.091935</td>\n",
              "      <td>0.177964</td>\n",
              "      <td>-0.053727</td>\n",
              "      <td>1.000000</td>\n",
              "      <td>-0.117143</td>\n",
              "      <td>-0.584876</td>\n",
              "      <td>-0.058259</td>\n",
              "      <td>-0.063567</td>\n",
              "      <td>-0.257850</td>\n",
              "      <td>-0.010809</td>\n",
              "      <td>-0.251003</td>\n",
              "    </tr>\n",
              "    <tr>\n",
              "      <th>race</th>\n",
              "      <td>0.023374</td>\n",
              "      <td>0.044731</td>\n",
              "      <td>0.011154</td>\n",
              "      <td>0.032805</td>\n",
              "      <td>-0.068627</td>\n",
              "      <td>0.000717</td>\n",
              "      <td>-0.117143</td>\n",
              "      <td>1.000000</td>\n",
              "      <td>0.089186</td>\n",
              "      <td>0.014353</td>\n",
              "      <td>0.023517</td>\n",
              "      <td>0.048532</td>\n",
              "      <td>0.124514</td>\n",
              "      <td>0.071658</td>\n",
              "    </tr>\n",
              "    <tr>\n",
              "      <th>sex</th>\n",
              "      <td>0.081993</td>\n",
              "      <td>0.074973</td>\n",
              "      <td>-0.027888</td>\n",
              "      <td>0.006157</td>\n",
              "      <td>-0.119813</td>\n",
              "      <td>0.062313</td>\n",
              "      <td>-0.584876</td>\n",
              "      <td>0.089186</td>\n",
              "      <td>1.000000</td>\n",
              "      <td>0.048814</td>\n",
              "      <td>0.047011</td>\n",
              "      <td>0.231268</td>\n",
              "      <td>0.000618</td>\n",
              "      <td>0.216699</td>\n",
              "    </tr>\n",
              "    <tr>\n",
              "      <th>capital-gain</th>\n",
              "      <td>0.080154</td>\n",
              "      <td>0.035350</td>\n",
              "      <td>0.030575</td>\n",
              "      <td>0.124416</td>\n",
              "      <td>-0.042418</td>\n",
              "      <td>0.022162</td>\n",
              "      <td>-0.058259</td>\n",
              "      <td>0.014353</td>\n",
              "      <td>0.048814</td>\n",
              "      <td>1.000000</td>\n",
              "      <td>-0.032229</td>\n",
              "      <td>0.080432</td>\n",
              "      <td>0.008530</td>\n",
              "      <td>0.221196</td>\n",
              "    </tr>\n",
              "    <tr>\n",
              "      <th>capital-loss</th>\n",
              "      <td>0.060165</td>\n",
              "      <td>0.007204</td>\n",
              "      <td>0.015028</td>\n",
              "      <td>0.079646</td>\n",
              "      <td>-0.035203</td>\n",
              "      <td>0.014607</td>\n",
              "      <td>-0.063567</td>\n",
              "      <td>0.023517</td>\n",
              "      <td>0.047011</td>\n",
              "      <td>-0.032229</td>\n",
              "      <td>1.000000</td>\n",
              "      <td>0.052417</td>\n",
              "      <td>0.009386</td>\n",
              "      <td>0.150053</td>\n",
              "    </tr>\n",
              "    <tr>\n",
              "      <th>hours-per-week</th>\n",
              "      <td>0.101599</td>\n",
              "      <td>0.050724</td>\n",
              "      <td>0.059887</td>\n",
              "      <td>0.152522</td>\n",
              "      <td>-0.189003</td>\n",
              "      <td>0.018365</td>\n",
              "      <td>-0.257850</td>\n",
              "      <td>0.048532</td>\n",
              "      <td>0.231268</td>\n",
              "      <td>0.080432</td>\n",
              "      <td>0.052417</td>\n",
              "      <td>1.000000</td>\n",
              "      <td>0.008408</td>\n",
              "      <td>0.229480</td>\n",
              "    </tr>\n",
              "    <tr>\n",
              "      <th>country</th>\n",
              "      <td>-0.001905</td>\n",
              "      <td>0.007668</td>\n",
              "      <td>0.078790</td>\n",
              "      <td>0.091555</td>\n",
              "      <td>-0.025902</td>\n",
              "      <td>-0.003483</td>\n",
              "      <td>-0.010809</td>\n",
              "      <td>0.124514</td>\n",
              "      <td>0.000618</td>\n",
              "      <td>0.008530</td>\n",
              "      <td>0.009386</td>\n",
              "      <td>0.008408</td>\n",
              "      <td>1.000000</td>\n",
              "      <td>0.023268</td>\n",
              "    </tr>\n",
              "    <tr>\n",
              "      <th>salary</th>\n",
              "      <td>0.241998</td>\n",
              "      <td>0.018044</td>\n",
              "      <td>0.078987</td>\n",
              "      <td>0.335286</td>\n",
              "      <td>-0.193518</td>\n",
              "      <td>0.051577</td>\n",
              "      <td>-0.251003</td>\n",
              "      <td>0.071658</td>\n",
              "      <td>0.216699</td>\n",
              "      <td>0.221196</td>\n",
              "      <td>0.150053</td>\n",
              "      <td>0.229480</td>\n",
              "      <td>0.023268</td>\n",
              "      <td>1.000000</td>\n",
              "    </tr>\n",
              "  </tbody>\n",
              "</table>\n",
              "</div>"
            ],
            "text/plain": [
              "                     age  workclass  ...   country    salary\n",
              "age             1.000000   0.080540  ... -0.001905  0.241998\n",
              "workclass       0.080540   1.000000  ...  0.007668  0.018044\n",
              "education      -0.001111   0.017855  ...  0.078790  0.078987\n",
              "education-num   0.043526   0.037833  ...  0.091555  0.335286\n",
              "marital-status -0.276373  -0.034241  ... -0.025902 -0.193518\n",
              "occupation     -0.005682   0.015572  ... -0.003483  0.051577\n",
              "relationship   -0.246456  -0.067417  ... -0.010809 -0.251003\n",
              "race            0.023374   0.044731  ...  0.124514  0.071658\n",
              "sex             0.081993   0.074973  ...  0.000618  0.216699\n",
              "capital-gain    0.080154   0.035350  ...  0.008530  0.221196\n",
              "capital-loss    0.060165   0.007204  ...  0.009386  0.150053\n",
              "hours-per-week  0.101599   0.050724  ...  0.008408  0.229480\n",
              "country        -0.001905   0.007668  ...  1.000000  0.023268\n",
              "salary          0.241998   0.018044  ...  0.023268  1.000000\n",
              "\n",
              "[14 rows x 14 columns]"
            ]
          },
          "metadata": {},
          "execution_count": 77
        }
      ]
    },
    {
      "cell_type": "code",
      "metadata": {
        "colab": {
          "base_uri": "https://localhost:8080/",
          "height": 943
        },
        "id": "rNQOZY3uolbj",
        "outputId": "6b9524cc-c104-48d3-bd85-8af14b90382d"
      },
      "source": [
        "plt.figure(figsize=(20,15))\n",
        "sns.heatmap(corr)"
      ],
      "execution_count": 78,
      "outputs": [
        {
          "output_type": "execute_result",
          "data": {
            "text/plain": [
              "<matplotlib.axes._subplots.AxesSubplot at 0x7f29cb879950>"
            ]
          },
          "metadata": {},
          "execution_count": 78
        },
        {
          "output_type": "display_data",
          "data": {
            "image/png": "[encoded data removed]",
            "text/plain": [
              "<Figure size 1440x1080 with 2 Axes>"
            ]
          },
          "metadata": {
            "needs_background": "light"
          }
        }
      ]
    },
    {
      "cell_type": "code",
      "metadata": {
        "colab": {
          "base_uri": "https://localhost:8080/",
          "height": 333
        },
        "id": "YhK2gwLToo8t",
        "outputId": "cd8d8dbe-bc27-4d84-f299-07f9479d17de"
      },
      "source": [
        "sns.violinplot('age',data = df1,hue = 'salary')\n",
        "plt.show()"
      ],
      "execution_count": 79,
      "outputs": [
        {
          "output_type": "stream",
          "name": "stderr",
          "text": [
            "/usr/local/lib/python3.7/dist-packages/seaborn/_decorators.py:43: FutureWarning: Pass the following variable as a keyword arg: x. From version 0.12, the only valid positional argument will be `data`, and passing other arguments without an explicit keyword will result in an error or misinterpretation.\n",
            "  FutureWarning\n"
          ]
        },
        {
          "output_type": "display_data",
          "data": {
            "image/png": "[encoded data removed]",
            "text/plain": [
              "<Figure size 432x288 with 1 Axes>"
            ]
          },
          "metadata": {
            "needs_background": "light"
          }
        }
      ]
    },
    {
      "cell_type": "markdown",
      "metadata": {
        "id": "W564_FJAxTTu"
      },
      "source": [
        "The maximun age group lie in between 20 to 55"
      ]
    },
    {
      "cell_type": "code",
      "metadata": {
        "colab": {
          "base_uri": "https://localhost:8080/",
          "height": 351
        },
        "id": "qYxRthY1o1fb",
        "outputId": "9f617f4f-8285-4a60-d1dc-e839ae78107d"
      },
      "source": [
        "sns.distplot(df['age'])"
      ],
      "execution_count": 80,
      "outputs": [
        {
          "output_type": "stream",
          "name": "stderr",
          "text": [
            "/usr/local/lib/python3.7/dist-packages/seaborn/distributions.py:2557: FutureWarning: `distplot` is a deprecated function and will be removed in a future version. Please adapt your code to use either `displot` (a figure-level function with similar flexibility) or `histplot` (an axes-level function for histograms).\n",
            "  warnings.warn(msg, FutureWarning)\n"
          ]
        },
        {
          "output_type": "execute_result",
          "data": {
            "text/plain": [
              "<matplotlib.axes._subplots.AxesSubplot at 0x7f29cb6bb290>"
            ]
          },
          "metadata": {},
          "execution_count": 80
        },
        {
          "output_type": "display_data",
          "data": {
            "image/png": "[encoded data removed]",
            "text/plain": [
              "<Figure size 432x288 with 1 Axes>"
            ]
          },
          "metadata": {
            "needs_background": "light"
          }
        }
      ]
    },
    {
      "cell_type": "markdown",
      "metadata": {
        "id": "LpErAMi4xi9x"
      },
      "source": [
        "Here the distribution is positively skiweed."
      ]
    },
    {
      "cell_type": "code",
      "metadata": {
        "colab": {
          "base_uri": "https://localhost:8080/",
          "height": 351
        },
        "id": "L5uEZ9tAyq-J",
        "outputId": "75537b10-5544-4bae-b2ff-10c6419df1e0"
      },
      "source": [
        "sns.countplot('sex',data=df1)"
      ],
      "execution_count": 81,
      "outputs": [
        {
          "output_type": "stream",
          "name": "stderr",
          "text": [
            "/usr/local/lib/python3.7/dist-packages/seaborn/_decorators.py:43: FutureWarning: Pass the following variable as a keyword arg: x. From version 0.12, the only valid positional argument will be `data`, and passing other arguments without an explicit keyword will result in an error or misinterpretation.\n",
            "  FutureWarning\n"
          ]
        },
        {
          "output_type": "execute_result",
          "data": {
            "text/plain": [
              "<matplotlib.axes._subplots.AxesSubplot at 0x7f29cb5aa5d0>"
            ]
          },
          "metadata": {},
          "execution_count": 81
        },
        {
          "output_type": "display_data",
          "data": {
            "image/png": "[encoded data removed]",
            "text/plain": [
              "<Figure size 432x288 with 1 Axes>"
            ]
          },
          "metadata": {
            "needs_background": "light"
          }
        }
      ]
    },
    {
      "cell_type": "markdown",
      "metadata": {
        "id": "VbDXSKazzAgc"
      },
      "source": [
        "In the data number of men are greater than women."
      ]
    },
    {
      "cell_type": "code",
      "metadata": {
        "colab": {
          "base_uri": "https://localhost:8080/",
          "height": 351
        },
        "id": "GhLb0F6Ox1NQ",
        "outputId": "2fb3821d-62ec-423d-b0bc-89b2f2ded8bc"
      },
      "source": [
        "sns.barplot('salary','sex',data = df1)"
      ],
      "execution_count": 82,
      "outputs": [
        {
          "output_type": "stream",
          "name": "stderr",
          "text": [
            "/usr/local/lib/python3.7/dist-packages/seaborn/_decorators.py:43: FutureWarning: Pass the following variables as keyword args: x, y. From version 0.12, the only valid positional argument will be `data`, and passing other arguments without an explicit keyword will result in an error or misinterpretation.\n",
            "  FutureWarning\n"
          ]
        },
        {
          "output_type": "execute_result",
          "data": {
            "text/plain": [
              "<matplotlib.axes._subplots.AxesSubplot at 0x7f29cb520890>"
            ]
          },
          "metadata": {},
          "execution_count": 82
        },
        {
          "output_type": "display_data",
          "data": {
            "image/png": "[encoded data removed]",
            "text/plain": [
              "<Figure size 432x288 with 1 Axes>"
            ]
          },
          "metadata": {
            "needs_background": "light"
          }
        }
      ]
    },
    {
      "cell_type": "markdown",
      "metadata": {
        "id": "yUnlysSQzLGF"
      },
      "source": [
        "average salary of men quite greater than women."
      ]
    },
    {
      "cell_type": "code",
      "metadata": {
        "colab": {
          "base_uri": "https://localhost:8080/",
          "height": 351
        },
        "id": "7ETqlxX_zV39",
        "outputId": "d0acdd41-bb34-4645-b2c4-a824712b0acb"
      },
      "source": [
        "sns.barplot('education','salary',data = df1)"
      ],
      "execution_count": 83,
      "outputs": [
        {
          "output_type": "stream",
          "name": "stderr",
          "text": [
            "/usr/local/lib/python3.7/dist-packages/seaborn/_decorators.py:43: FutureWarning: Pass the following variables as keyword args: x, y. From version 0.12, the only valid positional argument will be `data`, and passing other arguments without an explicit keyword will result in an error or misinterpretation.\n",
            "  FutureWarning\n"
          ]
        },
        {
          "output_type": "execute_result",
          "data": {
            "text/plain": [
              "<matplotlib.axes._subplots.AxesSubplot at 0x7f29cb4fefd0>"
            ]
          },
          "metadata": {},
          "execution_count": 83
        },
        {
          "output_type": "display_data",
          "data": {
            "image/png": "[encoded data removed]",
            "text/plain": [
              "<Figure size 432x288 with 1 Axes>"
            ]
          },
          "metadata": {
            "needs_background": "light"
          }
        }
      ]
    },
    {
      "cell_type": "markdown",
      "metadata": {
        "id": "yLPMhvm4zprv"
      },
      "source": [
        "We can conclude that heigher the education heigher the salary."
      ]
    },
    {
      "cell_type": "code",
      "metadata": {
        "colab": {
          "base_uri": "https://localhost:8080/",
          "height": 351
        },
        "id": "YrnGvDWw1u75",
        "outputId": "2e298b89-df90-42a6-8d77-7d998566daf8"
      },
      "source": [
        "sns.barplot('hours-per-week','salary',data = df)"
      ],
      "execution_count": 84,
      "outputs": [
        {
          "output_type": "stream",
          "name": "stderr",
          "text": [
            "/usr/local/lib/python3.7/dist-packages/seaborn/_decorators.py:43: FutureWarning: Pass the following variables as keyword args: x, y. From version 0.12, the only valid positional argument will be `data`, and passing other arguments without an explicit keyword will result in an error or misinterpretation.\n",
            "  FutureWarning\n"
          ]
        },
        {
          "output_type": "execute_result",
          "data": {
            "text/plain": [
              "<matplotlib.axes._subplots.AxesSubplot at 0x7f29cb3ef490>"
            ]
          },
          "metadata": {},
          "execution_count": 84
        },
        {
          "output_type": "display_data",
          "data": {
            "image/png": "[encoded data removed]",
            "text/plain": [
              "<Figure size 432x288 with 1 Axes>"
            ]
          },
          "metadata": {
            "needs_background": "light"
          }
        }
      ]
    },
    {
      "cell_type": "markdown",
      "metadata": {
        "id": "GevrIx9a2Kga"
      },
      "source": [
        "Heigher the hours-per-week heigher the salary."
      ]
    },
    {
      "cell_type": "code",
      "metadata": {
        "colab": {
          "base_uri": "https://localhost:8080/"
        },
        "id": "1uIxsXfmo49O",
        "outputId": "6f9f0333-51fc-4b57-ff62-9ea06061345f"
      },
      "source": [
        "X = df1.drop('salary',axis = 1)\n",
        "y = df1['salary']\n",
        "from sklearn.model_selection import train_test_split\n",
        "X_train, X_test, y_train, y_test = train_test_split(X,y,test_size = 0.2,random_state = 0)\n",
        "X_train.shape, X_test.shape, y_train.shape, y_test.shape"
      ],
      "execution_count": 85,
      "outputs": [
        {
          "output_type": "execute_result",
          "data": {
            "text/plain": [
              "((24129, 13), (6033, 13), (24129,), (6033,))"
            ]
          },
          "metadata": {},
          "execution_count": 85
        }
      ]
    },
    {
      "cell_type": "code",
      "metadata": {
        "colab": {
          "base_uri": "https://localhost:8080/"
        },
        "id": "pPy63TskpGVu",
        "outputId": "0e0d29a8-2567-4472-c555-22fdd9064b36"
      },
      "source": [
        "from xgboost import XGBClassifier\n",
        "from sklearn.metrics import accuracy_score\n",
        "xgb = XGBClassifier(random_state=0,n_jobs=-1)\n",
        "xgb_fit = xgb.fit(X_train,y_train)\n",
        "xgb_pred = xgb_fit.predict(X_test)\n",
        "accuracy_score(xgb_pred,y_test)\n"
      ],
      "execution_count": 86,
      "outputs": [
        {
          "output_type": "execute_result",
          "data": {
            "text/plain": [
              "0.8544670976297033"
            ]
          },
          "metadata": {},
          "execution_count": 86
        }
      ]
    },
    {
      "cell_type": "code",
      "metadata": {
        "id": "84uqC1vxpbrA"
      },
      "source": [
        "from sklearn.model_selection import GridSearchCV\n",
        "##params_grid = {'n_estimators' : [200,300,400,500,600],\n",
        "              # 'learning_rate' : [0.1,0.2,0.3,0.4,0.5],\n",
        "               #'max_depth' : [3,5,6,7,8]}\n",
        "               "
      ],
      "execution_count": 87,
      "outputs": []
    },
    {
      "cell_type": "code",
      "metadata": {
        "id": "tg3a_py_pvTY"
      },
      "source": [
        "#xgbgrid = GridSearchCV(XGBClassifier(),params_grid)"
      ],
      "execution_count": 88,
      "outputs": []
    },
    {
      "cell_type": "code",
      "metadata": {
        "id": "iXAmlQYepyKU"
      },
      "source": [
        "##xgbgrid_fit = xgbgrid.fit(X_train,y_train)"
      ],
      "execution_count": 89,
      "outputs": []
    },
    {
      "cell_type": "code",
      "metadata": {
        "id": "ZE0EQQtGp14U"
      },
      "source": [
        "##xgbgrid_fit.best_params_"
      ],
      "execution_count": 90,
      "outputs": []
    },
    {
      "cell_type": "code",
      "metadata": {
        "colab": {
          "base_uri": "https://localhost:8080/"
        },
        "id": "c0myln0Wp4Ez",
        "outputId": "a1b5cca6-f620-4b3a-b801-fc48b2a4d69f"
      },
      "source": [
        "xgb1 = XGBClassifier(learning_rate=0.2, max_depth=3,n_estimators=300,random_state=0)\n",
        "xgb1_fit = xgb1.fit(X_train.values,y_train.values)\n",
        "xgb1_pred = xgb1_fit.predict(X_test.values)\n",
        "\n",
        "accuracy_score(xgb1_pred,y_test.values)\n"
      ],
      "execution_count": 91,
      "outputs": [
        {
          "output_type": "execute_result",
          "data": {
            "text/plain": [
              "0.8693850488977292"
            ]
          },
          "metadata": {},
          "execution_count": 91
        }
      ]
    },
    {
      "cell_type": "code",
      "metadata": {
        "colab": {
          "base_uri": "https://localhost:8080/",
          "height": 440
        },
        "id": "O6kWdRCEg9jM",
        "outputId": "cdd0b919-27f4-4bd9-e9b9-ff9321443379"
      },
      "source": [
        "X_test"
      ],
      "execution_count": 92,
      "outputs": [
        {
          "output_type": "execute_result",
          "data": {
            "text/html": [
              "<div>\n",
              "<style scoped>\n",
              "    .dataframe tbody tr th:only-of-type {\n",
              "        vertical-align: middle;\n",
              "    }\n",
              "\n",
              "    .dataframe tbody tr th {\n",
              "        vertical-align: top;\n",
              "    }\n",
              "\n",
              "    .dataframe thead th {\n",
              "        text-align: right;\n",
              "    }\n",
              "</style>\n",
              "<table border=\"1\" class=\"dataframe\">\n",
              "  <thead>\n",
              "    <tr style=\"text-align: right;\">\n",
              "      <th></th>\n",
              "      <th>age</th>\n",
              "      <th>workclass</th>\n",
              "      <th>education</th>\n",
              "      <th>education-num</th>\n",
              "      <th>marital-status</th>\n",
              "      <th>occupation</th>\n",
              "      <th>relationship</th>\n",
              "      <th>race</th>\n",
              "      <th>sex</th>\n",
              "      <th>capital-gain</th>\n",
              "      <th>capital-loss</th>\n",
              "      <th>hours-per-week</th>\n",
              "      <th>country</th>\n",
              "    </tr>\n",
              "  </thead>\n",
              "  <tbody>\n",
              "    <tr>\n",
              "      <th>2135</th>\n",
              "      <td>44</td>\n",
              "      <td>2</td>\n",
              "      <td>11</td>\n",
              "      <td>9</td>\n",
              "      <td>4</td>\n",
              "      <td>11</td>\n",
              "      <td>1</td>\n",
              "      <td>1</td>\n",
              "      <td>0</td>\n",
              "      <td>0</td>\n",
              "      <td>0</td>\n",
              "      <td>40</td>\n",
              "      <td>38</td>\n",
              "    </tr>\n",
              "    <tr>\n",
              "      <th>15639</th>\n",
              "      <td>21</td>\n",
              "      <td>2</td>\n",
              "      <td>15</td>\n",
              "      <td>10</td>\n",
              "      <td>4</td>\n",
              "      <td>0</td>\n",
              "      <td>3</td>\n",
              "      <td>4</td>\n",
              "      <td>1</td>\n",
              "      <td>0</td>\n",
              "      <td>0</td>\n",
              "      <td>20</td>\n",
              "      <td>38</td>\n",
              "    </tr>\n",
              "    <tr>\n",
              "      <th>29059</th>\n",
              "      <td>36</td>\n",
              "      <td>2</td>\n",
              "      <td>15</td>\n",
              "      <td>10</td>\n",
              "      <td>2</td>\n",
              "      <td>13</td>\n",
              "      <td>0</td>\n",
              "      <td>4</td>\n",
              "      <td>1</td>\n",
              "      <td>0</td>\n",
              "      <td>0</td>\n",
              "      <td>40</td>\n",
              "      <td>38</td>\n",
              "    </tr>\n",
              "    <tr>\n",
              "      <th>27523</th>\n",
              "      <td>30</td>\n",
              "      <td>4</td>\n",
              "      <td>8</td>\n",
              "      <td>11</td>\n",
              "      <td>0</td>\n",
              "      <td>2</td>\n",
              "      <td>1</td>\n",
              "      <td>4</td>\n",
              "      <td>1</td>\n",
              "      <td>0</td>\n",
              "      <td>0</td>\n",
              "      <td>49</td>\n",
              "      <td>38</td>\n",
              "    </tr>\n",
              "    <tr>\n",
              "      <th>9280</th>\n",
              "      <td>42</td>\n",
              "      <td>4</td>\n",
              "      <td>15</td>\n",
              "      <td>10</td>\n",
              "      <td>2</td>\n",
              "      <td>2</td>\n",
              "      <td>0</td>\n",
              "      <td>4</td>\n",
              "      <td>1</td>\n",
              "      <td>0</td>\n",
              "      <td>0</td>\n",
              "      <td>40</td>\n",
              "      <td>7</td>\n",
              "    </tr>\n",
              "    <tr>\n",
              "      <th>...</th>\n",
              "      <td>...</td>\n",
              "      <td>...</td>\n",
              "      <td>...</td>\n",
              "      <td>...</td>\n",
              "      <td>...</td>\n",
              "      <td>...</td>\n",
              "      <td>...</td>\n",
              "      <td>...</td>\n",
              "      <td>...</td>\n",
              "      <td>...</td>\n",
              "      <td>...</td>\n",
              "      <td>...</td>\n",
              "      <td>...</td>\n",
              "    </tr>\n",
              "    <tr>\n",
              "      <th>4944</th>\n",
              "      <td>46</td>\n",
              "      <td>2</td>\n",
              "      <td>15</td>\n",
              "      <td>10</td>\n",
              "      <td>2</td>\n",
              "      <td>11</td>\n",
              "      <td>0</td>\n",
              "      <td>4</td>\n",
              "      <td>1</td>\n",
              "      <td>15024</td>\n",
              "      <td>0</td>\n",
              "      <td>40</td>\n",
              "      <td>38</td>\n",
              "    </tr>\n",
              "    <tr>\n",
              "      <th>5031</th>\n",
              "      <td>63</td>\n",
              "      <td>4</td>\n",
              "      <td>9</td>\n",
              "      <td>13</td>\n",
              "      <td>2</td>\n",
              "      <td>11</td>\n",
              "      <td>0</td>\n",
              "      <td>4</td>\n",
              "      <td>1</td>\n",
              "      <td>0</td>\n",
              "      <td>0</td>\n",
              "      <td>30</td>\n",
              "      <td>38</td>\n",
              "    </tr>\n",
              "    <tr>\n",
              "      <th>18671</th>\n",
              "      <td>45</td>\n",
              "      <td>2</td>\n",
              "      <td>0</td>\n",
              "      <td>6</td>\n",
              "      <td>2</td>\n",
              "      <td>2</td>\n",
              "      <td>0</td>\n",
              "      <td>4</td>\n",
              "      <td>1</td>\n",
              "      <td>0</td>\n",
              "      <td>0</td>\n",
              "      <td>60</td>\n",
              "      <td>38</td>\n",
              "    </tr>\n",
              "    <tr>\n",
              "      <th>10118</th>\n",
              "      <td>41</td>\n",
              "      <td>2</td>\n",
              "      <td>15</td>\n",
              "      <td>10</td>\n",
              "      <td>2</td>\n",
              "      <td>13</td>\n",
              "      <td>0</td>\n",
              "      <td>4</td>\n",
              "      <td>1</td>\n",
              "      <td>0</td>\n",
              "      <td>0</td>\n",
              "      <td>65</td>\n",
              "      <td>38</td>\n",
              "    </tr>\n",
              "    <tr>\n",
              "      <th>25645</th>\n",
              "      <td>25</td>\n",
              "      <td>2</td>\n",
              "      <td>9</td>\n",
              "      <td>13</td>\n",
              "      <td>4</td>\n",
              "      <td>9</td>\n",
              "      <td>3</td>\n",
              "      <td>4</td>\n",
              "      <td>0</td>\n",
              "      <td>0</td>\n",
              "      <td>0</td>\n",
              "      <td>40</td>\n",
              "      <td>12</td>\n",
              "    </tr>\n",
              "  </tbody>\n",
              "</table>\n",
              "<p>6033 rows × 13 columns</p>\n",
              "</div>"
            ],
            "text/plain": [
              "       age  workclass  education  ...  capital-loss  hours-per-week  country\n",
              "2135    44          2         11  ...             0              40       38\n",
              "15639   21          2         15  ...             0              20       38\n",
              "29059   36          2         15  ...             0              40       38\n",
              "27523   30          4          8  ...             0              49       38\n",
              "9280    42          4         15  ...             0              40        7\n",
              "...    ...        ...        ...  ...           ...             ...      ...\n",
              "4944    46          2         15  ...             0              40       38\n",
              "5031    63          4          9  ...             0              30       38\n",
              "18671   45          2          0  ...             0              60       38\n",
              "10118   41          2         15  ...             0              65       38\n",
              "25645   25          2          9  ...             0              40       12\n",
              "\n",
              "[6033 rows x 13 columns]"
            ]
          },
          "metadata": {},
          "execution_count": 92
        }
      ]
    },
    {
      "cell_type": "code",
      "metadata": {
        "id": "nm-Sx3aSqGti"
      },
      "source": [
        "import pickle\n"
      ],
      "execution_count": 93,
      "outputs": []
    },
    {
      "cell_type": "code",
      "metadata": {
        "id": "OLGdbCP-dYWS"
      },
      "source": [
        "with open('model_pickle','wb') as f:\n",
        "  pickle.dump(xgb1,f)"
      ],
      "execution_count": 94,
      "outputs": []
    },
    {
      "cell_type": "code",
      "metadata": {
        "id": "eh8pelXJdYOV"
      },
      "source": [
        "with open('model_pickle','rb') as f:\n",
        "  mp = pickle.load(f)"
      ],
      "execution_count": 95,
      "outputs": []
    },
    {
      "cell_type": "code",
      "metadata": {
        "colab": {
          "base_uri": "https://localhost:8080/"
        },
        "id": "FE_uLKGOdYDA",
        "outputId": "86d6cb99-7e49-48aa-811a-33bbaa1c3861"
      },
      "source": [
        "mp"
      ],
      "execution_count": 96,
      "outputs": [
        {
          "output_type": "execute_result",
          "data": {
            "text/plain": [
              "XGBClassifier(base_score=0.5, booster='gbtree', colsample_bylevel=1,\n",
              "              colsample_bynode=1, colsample_bytree=1, gamma=0,\n",
              "              learning_rate=0.2, max_delta_step=0, max_depth=3,\n",
              "              min_child_weight=1, missing=nan, n_estimators=300, n_jobs=1,\n",
              "              nthread=None, objective='binary:logistic', random_state=0,\n",
              "              reg_alpha=0, reg_lambda=1, scale_pos_weight=1, seed=None,\n",
              "              silent=None, subsample=1, verbosity=1)"
            ]
          },
          "metadata": {},
          "execution_count": 96
        }
      ]
    },
    {
      "cell_type": "code",
      "metadata": {
        "id": "PpIh-rRmTNGo",
        "colab": {
          "base_uri": "https://localhost:8080/"
        },
        "outputId": "092a1e31-0850-470b-9d6d-304867c3b54e"
      },
      "source": [
        "mp.predict(X_test.values)"
      ],
      "execution_count": 97,
      "outputs": [
        {
          "output_type": "execute_result",
          "data": {
            "text/plain": [
              "array([0, 0, 0, ..., 0, 0, 0])"
            ]
          },
          "metadata": {},
          "execution_count": 97
        }
      ]
    },
    {
      "cell_type": "code",
      "metadata": {
        "id": "rNV-MAUPUkXW"
      },
      "source": [
        "        "
      ],
      "execution_count": 97,
      "outputs": []
    }
  ]
}